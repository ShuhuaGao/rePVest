{
 "cells": [
  {
   "cell_type": "markdown",
   "source": [
    "# Analyze the reproducibility of the simple DE \r\n",
    "\r\n",
    "We compute the coefficient of variation in $K = 30$ runs.\r\n"
   ],
   "metadata": {}
  },
  {
   "cell_type": "code",
   "execution_count": 1,
   "source": [
    "using Random, Printf, CSV, Tables\r\n",
    "using Statistics\r\n",
    "using DifferentialEvolution\r\n",
    "Random.seed!(2);  "
   ],
   "outputs": [],
   "metadata": {}
  },
  {
   "cell_type": "markdown",
   "source": [
    "## Read data"
   ],
   "metadata": {}
  },
  {
   "cell_type": "code",
   "execution_count": 2,
   "source": [
    "const data_RT = CSV.File(\"data/RTFrance.csv\") |> Tables.matrix;\r\n",
    "const data_PW = CSV.File(\"data/Photowatt25.csv\") |> Tables.matrix\r\n",
    "\r\n",
    "const T_RT = 33 + 273.15  # temperature in Kalvin of the RTC France case\r\n",
    "const T_PW = 45 + 273.15;  # temperature in Kalvin of the Photowatt case\r\n",
    "\r\n",
    "# see Table 1 in our paper\r\n",
    "const bounds_RT_sdm = Float64[0 1; 0 1; 1 2; 0 0.5; 0 100];\r\n",
    "const bounds_RT_ddm = Float64[0 1; 0 1; 0 1; 1 2; 1 2; 0 0.5; 0 100]; \r\n",
    "const bounds_PW_sdm = Float64[0 2; 0 50; 1 50; 0 2; 0 2000]; \r\n",
    "const bounds_PW_ddm = Float64[0 2; 0 0.01; 0 50; 1 50; 1 50; 0 2; 0 2000];"
   ],
   "outputs": [],
   "metadata": {}
  },
  {
   "cell_type": "code",
   "execution_count": 3,
   "source": [
    "include(\"models.jl\") "
   ],
   "outputs": [
    {
     "output_type": "execute_result",
     "data": {
      "text/plain": [
       "calculate_mae"
      ]
     },
     "metadata": {},
     "execution_count": 3
    }
   ],
   "metadata": {}
  },
  {
   "cell_type": "code",
   "execution_count": 4,
   "source": [
    "const K = 30\r\n",
    "\r\n",
    "# coefficient of variation\r\n",
    "# each column denote one solution\r\n",
    "function compute_cv(solutions)\r\n",
    "    m = mean(solutions; dims=2)\r\n",
    "    s = std(solutions; dims=2)\r\n",
    "    return s ./ m\r\n",
    "end"
   ],
   "outputs": [
    {
     "output_type": "execute_result",
     "data": {
      "text/plain": [
       "compute_cv (generic function with 1 method)"
      ]
     },
     "metadata": {},
     "execution_count": 4
    }
   ],
   "metadata": {}
  },
  {
   "cell_type": "markdown",
   "source": [
    "## SDM results"
   ],
   "metadata": {}
  },
  {
   "cell_type": "code",
   "execution_count": 5,
   "source": [
    "const np = 50  # number of individuals\r\n",
    "const F = 0.6\r\n",
    "const Cr = 0.9\r\n",
    "const G_sdm = 800 # number of generations\r\n",
    "const G_ddm = 1600 # number of generations\r\n",
    ";"
   ],
   "outputs": [],
   "metadata": {}
  },
  {
   "cell_type": "markdown",
   "source": [
    "### RT"
   ],
   "metadata": {}
  },
  {
   "cell_type": "code",
   "execution_count": 6,
   "source": [
    "# given a parameter vector θ, compute its SSE as the fitness in DE\r\n",
    "evaluator(θ) = calculate_sse(data_RT, (V, I) -> model_sdm(V, I, θ..., T_RT));"
   ],
   "outputs": [],
   "metadata": {}
  },
  {
   "cell_type": "code",
   "execution_count": 7,
   "source": [
    "solutions = zeros(5, K)\r\n",
    "# each run is new due to the involved randomness\r\n",
    "for k = 1:K\r\n",
    "    de = StdDE(np, bounds_RT_sdm, StdOptions(F, Cr); senses=-1)  # minimization\r\n",
    "    evolve!(de, evaluator, G_sdm; stats=[])  \r\n",
    "    best = best_individual(de)\r\n",
    "    solutions[:, k] = best\r\n",
    "end "
   ],
   "outputs": [],
   "metadata": {}
  },
  {
   "cell_type": "code",
   "execution_count": 8,
   "source": [
    "println(\"CV (SDM + RT):\")\r\n",
    "compute_cv(solutions)"
   ],
   "outputs": [
    {
     "output_type": "stream",
     "name": "stdout",
     "text": [
      "CV (SDM + RT):\n"
     ]
    },
    {
     "output_type": "execute_result",
     "data": {
      "text/plain": [
       "5×1 Matrix{Float64}:\n",
       " 3.043252553794087e-10\n",
       " 7.17267582257842e-8\n",
       " 4.881845287107419e-9\n",
       " 8.212350364377992e-9\n",
       " 6.038057289051176e-8"
      ]
     },
     "metadata": {},
     "execution_count": 8
    }
   ],
   "metadata": {}
  },
  {
   "cell_type": "markdown",
   "source": [
    "### PW"
   ],
   "metadata": {}
  },
  {
   "cell_type": "code",
   "execution_count": 9,
   "source": [
    "# given a parameter vector θ, compute its SSE as the fitness in DE\r\n",
    "# note that the temperature of the two datasets are different\r\n",
    "evaluator(θ) = calculate_sse(data_PW, (V, I) -> model_sdm(V, I, θ..., T_PW));"
   ],
   "outputs": [],
   "metadata": {}
  },
  {
   "cell_type": "code",
   "execution_count": 10,
   "source": [
    "solutions = zeros(5, K)\r\n",
    "# each run is new due to the involved randomness\r\n",
    "for k = 1:K\r\n",
    "    de = StdDE(np, bounds_PW_sdm, StdOptions(F, Cr); senses=-1)  # minimization\r\n",
    "    evolve!(de, evaluator, G_sdm; stats=[])\r\n",
    "    best = best_individual(de)\r\n",
    "    solutions[:, k] = best\r\n",
    "end \r\n",
    "\r\n",
    "println(\"CV (SDM + PW):\")\r\n",
    "compute_cv(solutions)"
   ],
   "outputs": [
    {
     "output_type": "stream",
     "name": "stdout",
     "text": [
      "CV (SDM + PW):\n"
     ]
    },
    {
     "output_type": "execute_result",
     "data": {
      "text/plain": [
       "5×1 Matrix{Float64}:\n",
       " 9.084875260855505e-10\n",
       " 6.884770161741413e-8\n",
       " 5.383295399127988e-9\n",
       " 5.639590037704224e-9\n",
       " 1.3280423032072743e-7"
      ]
     },
     "metadata": {},
     "execution_count": 10
    }
   ],
   "metadata": {}
  },
  {
   "cell_type": "markdown",
   "source": [
    "## DDM results"
   ],
   "metadata": {}
  },
  {
   "cell_type": "markdown",
   "source": [
    "### RT"
   ],
   "metadata": {}
  },
  {
   "cell_type": "code",
   "execution_count": 11,
   "source": [
    "# given a parameter vector θ, compute its SSE as the fitness in DE\r\n",
    "evaluator(θ) = calculate_sse(data_RT, (V, I) -> model_ddm(V, I, θ..., T_RT));"
   ],
   "outputs": [],
   "metadata": {}
  },
  {
   "cell_type": "code",
   "execution_count": 12,
   "source": [
    "function exchange_if_small!(best, i, j)\r\n",
    "    if best[i] > best[j]\r\n",
    "        best[i], best[j] = best[j], best[i]\r\n",
    "    end  \r\n",
    "end"
   ],
   "outputs": [
    {
     "output_type": "execute_result",
     "data": {
      "text/plain": [
       "exchange_if_small! (generic function with 1 method)"
      ]
     },
     "metadata": {},
     "execution_count": 12
    }
   ],
   "metadata": {}
  },
  {
   "cell_type": "code",
   "execution_count": 13,
   "source": [
    "solutions = zeros(7, K)\r\n",
    "# each run is new due to the involved randomness\r\n",
    "for k = 1:K\r\n",
    "    de = StdDE(np, bounds_RT_ddm, StdOptions(F, Cr); senses=-1)  # minimization\r\n",
    "    evolve!(de, evaluator, G_ddm; stats=[])\r\n",
    "    best = best_individual(de)\r\n",
    "    # assume I01 < I02, n1 < n2\r\n",
    "    exchange_if_small!(best, 2, 3)\r\n",
    "    exchange_if_small!(best, 4, 5)\r\n",
    "    solutions[:, k] = best \r\n",
    "    # best_sse = best_fitness(de)\r\n",
    "    # best_rmse = sqrt(best_sse / size(data_RT, 1))\r\n",
    "    # @printf(\"%.5e\\n\", best_rmse)\r\n",
    "end \r\n",
    "\r\n",
    "println(\"CV (DDM + RT):\")\r\n",
    "compute_cv(solutions)"
   ],
   "outputs": [
    {
     "output_type": "stream",
     "name": "stdout",
     "text": [
      "CV (DDM + RT):\n"
     ]
    },
    {
     "output_type": "execute_result",
     "data": {
      "text/plain": [
       "7×1 Matrix{Float64}:\n",
       " 9.13809212402109e-7\n",
       " 0.008271257187632492\n",
       " 0.021181928238725896\n",
       " 0.0004721585523995535\n",
       " 1.7051992240779358e-5\n",
       " 0.00024095923806942112\n",
       " 0.0006470595136665226"
      ]
     },
     "metadata": {},
     "execution_count": 13
    }
   ],
   "metadata": {}
  },
  {
   "cell_type": "markdown",
   "source": [
    "### PW"
   ],
   "metadata": {}
  },
  {
   "cell_type": "code",
   "execution_count": 14,
   "source": [
    "evaluator(θ) = calculate_sse(data_PW, (V, I) -> model_ddm(V, I, θ..., T_PW));"
   ],
   "outputs": [],
   "metadata": {}
  },
  {
   "cell_type": "code",
   "execution_count": 15,
   "source": [
    "solutions = zeros(7, K)\r\n",
    "# each run is new due to the involved randomness\r\n",
    "for k = 1:K\r\n",
    "    de = StdDE(np, bounds_PW_ddm, StdOptions(F, Cr); senses=-1)  # minimization\r\n",
    "    evolve!(de, evaluator, G_ddm; stats=[])\r\n",
    "    best = best_individual(de)\r\n",
    "    # assume I01 < I02, n1 < n2\r\n",
    "    exchange_if_small!(best, 2, 3)\r\n",
    "    exchange_if_small!(best, 4, 5)\r\n",
    "    solutions[:, k] = best\r\n",
    "    # best_sse = best_fitness(de)\r\n",
    "    # best_rmse = sqrt(best_sse / size(data_PW, 1))\r\n",
    "    # @printf(\"%.5e\\n\", best_rmse)\r\n",
    "end \r\n",
    "\r\n",
    "println(\"CV (DDM + PW):\")\r\n",
    "compute_cv(solutions)"
   ],
   "outputs": [
    {
     "output_type": "stream",
     "name": "stdout",
     "text": [
      "CV (DDM + PW):\n"
     ]
    },
    {
     "output_type": "execute_result",
     "data": {
      "text/plain": [
       "7×1 Matrix{Float64}:\n",
       " 4.748022351087864e-10\n",
       " 0.6531759599288239\n",
       " 0.0007898399070762047\n",
       " 2.347371903208119e-7\n",
       " 8.513312025611767e-6\n",
       " 5.095420158688928e-9\n",
       " 7.331491124315897e-8"
      ]
     },
     "metadata": {},
     "execution_count": 15
    }
   ],
   "metadata": {}
  }
 ],
 "metadata": {
  "orig_nbformat": 4,
  "language_info": {
   "name": "julia",
   "version": "1.6.2",
   "mimetype": "application/julia",
   "file_extension": ".jl"
  },
  "kernelspec": {
   "display_name": "Julia 1.6.2",
   "language": "julia",
   "name": "julia-1.6"
  }
 },
 "nbformat": 4,
 "nbformat_minor": 2
}